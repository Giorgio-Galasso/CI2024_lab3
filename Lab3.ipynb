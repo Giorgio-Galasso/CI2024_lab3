{
 "cells": [
  {
   "cell_type": "markdown",
   "metadata": {
    "vscode": {
     "languageId": "plaintext"
    }
   },
   "source": [
    "Copyright **`(c)`** 2024 Giovanni Squillero `<giovanni.squillero@polito.it>`  \n",
    "[`https://github.com/squillero/computational-intelligence`](https://github.com/squillero/computational-intelligence)  \n",
    "Free under certain conditions — see the [`license`](https://github.com/squillero/computational-intelligence/blob/master/LICENSE.md) for details.  "
   ]
  },
  {
   "cell_type": "code",
   "execution_count": 1,
   "metadata": {},
   "outputs": [],
   "source": [
    "from collections import namedtuple\n",
    "from random import choice\n",
    "from tqdm.auto import tqdm\n",
    "import numpy as np"
   ]
  },
  {
   "cell_type": "code",
   "execution_count": 2,
   "metadata": {},
   "outputs": [],
   "source": [
    "import heapq"
   ]
  },
  {
   "cell_type": "code",
   "execution_count": 3,
   "metadata": {},
   "outputs": [],
   "source": [
    "PUZZLE_DIM = 4\n",
    "action = namedtuple('Action', ['pos1', 'pos2'])"
   ]
  },
  {
   "cell_type": "code",
   "execution_count": 4,
   "metadata": {},
   "outputs": [],
   "source": [
    "def available_actions(state: np.ndarray) -> list['Action']:\n",
    "    x, y = [int(_[0]) for _ in np.where(state == 0)]\n",
    "    actions = list()\n",
    "    if x > 0:\n",
    "        actions.append(action((x, y), (x - 1, y)))\n",
    "    if x < PUZZLE_DIM - 1:\n",
    "        actions.append(action((x, y), (x + 1, y)))\n",
    "    if y > 0:\n",
    "        actions.append(action((x, y), (x, y - 1)))\n",
    "    if y < PUZZLE_DIM - 1:\n",
    "        actions.append(action((x, y), (x, y + 1)))\n",
    "    return actions\n",
    "\n",
    "\n",
    "\n",
    "def do_action(state: np.ndarray, action: 'Action') -> np.ndarray:\n",
    "    new_state = state.copy()\n",
    "    new_state[action.pos1], new_state[action.pos2] = new_state[action.pos2], new_state[action.pos1]\n",
    "    return new_state"
   ]
  },
  {
   "cell_type": "code",
   "execution_count": 5,
   "metadata": {},
   "outputs": [
    {
     "name": "stderr",
     "output_type": "stream",
     "text": [
      "Randomizing:   0%|          | 0/100000 [00:00<?, ?it/s]"
     ]
    },
    {
     "name": "stderr",
     "output_type": "stream",
     "text": [
      "Randomizing: 100%|██████████| 100000/100000 [00:00<00:00, 105614.91it/s]\n"
     ]
    },
    {
     "data": {
      "text/plain": [
       "array([[ 8, 13,  2,  9],\n",
       "       [ 6, 14,  4,  0],\n",
       "       [ 7, 10,  3, 12],\n",
       "       [ 1, 15, 11,  5]])"
      ]
     },
     "execution_count": 5,
     "metadata": {},
     "output_type": "execute_result"
    }
   ],
   "source": [
    "RANDOMIZE_STEPS = 100_000\n",
    "state = np.array([i for i in range(1, PUZZLE_DIM**2)] + [0]).reshape((PUZZLE_DIM, PUZZLE_DIM))\n",
    "for r in tqdm(range(RANDOMIZE_STEPS), desc='Randomizing'):\n",
    "    state = do_action(state, choice(available_actions(state)))\n",
    "initial_state = state.copy()\n",
    "initial_state"
   ]
  },
  {
   "cell_type": "code",
   "execution_count": 6,
   "metadata": {},
   "outputs": [],
   "source": [
    "MAX_STEP = 1_000_000\n",
    "\n",
    "def heuristic(state, goal_state, n):\n",
    "    \"\"\"\n",
    "    Combina la distanza di Manhattan e il numero di tessere fuori posizione.\n",
    "    Combines the Manhattan distance and the number of tiles out of place.\n",
    "    \"\"\"\n",
    "    manhattan = 0\n",
    "    out_of_place = 0\n",
    "    exp = 1.5  #Exponent applied to the Manhattan Distance plus the number of misplaced tiles.\n",
    "\n",
    "    for x in range(n):\n",
    "        for y in range(n):\n",
    "            value = state[x, y]\n",
    "            if value != 0:  # # Ignore the empty tile.\n",
    "                # Calculation of Manhattan Distance\n",
    "                target_x, target_y = divmod(np.argwhere(goal_state == value)[0][0], n)\n",
    "                manhattan += abs(x - target_x) + abs(y - target_y)\n",
    "                \n",
    "                # Count the misplaced tiles\n",
    "                if (x, y) != (target_x, target_y):\n",
    "                    out_of_place += 1\n",
    "\n",
    "    # Combine the two heuristics and raise the result to a power to make the heuristic more aggressive.\n",
    "    h = (manhattan + out_of_place)**exp\n",
    "    return h\n",
    "\n",
    "'''def heuristic(state, goal, n):\n",
    "    \"\"\"\n",
    "    Calcola l'euristica del Linear Conflict per un puzzle N*N.\n",
    "    \n",
    "    state: Matrice NumPy che rappresenta lo stato corrente del puzzle.\n",
    "    goal: Matrice NumPy che rappresenta lo stato obiettivo.\n",
    "    n: Dimensione del puzzle (es: 3 per un 3x3).\n",
    "    \"\"\"\n",
    "    manhattan_distance = 0\n",
    "    linear_conflict = 0\n",
    "    exp = 1.2  # Esponente che eleva la distanza di Manhattan più il costo del conflitto lineare\n",
    "    \n",
    "    # Calcolo della Manhattan Distance e conflitti lineari per le righe\n",
    "    for row in range(n):\n",
    "        current_row = state[row, :]\n",
    "        goal_row = goal[row, :]\n",
    "        \n",
    "        for i in range(n):\n",
    "            if current_row[i] != 0 and current_row[i] in goal_row:\n",
    "                # Calcola la Manhattan Distance per la tessera\n",
    "                target_row, target_col = divmod(current_row[i] - 1, n)\n",
    "                manhattan_distance += abs(row - target_row) + abs(i - target_col)\n",
    "                \n",
    "                # Controlla conflitti nella riga\n",
    "                for j in range(i + 1, n):\n",
    "                    if current_row[j] != 0 and current_row[j] in goal_row:\n",
    "                        target_row_j, target_col_j = divmod(current_row[j] - 1, n)\n",
    "                        if target_row == row and target_col > target_col_j:\n",
    "                            linear_conflict += 2  # Aggiungi costo per il conflitto\n",
    "\n",
    "    # Calcolo dei conflitti lineari per le colonne\n",
    "    for col in range(n):\n",
    "        current_col = state[:, col]\n",
    "        goal_col = goal[:, col]\n",
    "        \n",
    "        for i in range(n):\n",
    "            if current_col[i] != 0 and current_col[i] in goal_col:\n",
    "                # Calcola la Manhattan Distance per la tessera\n",
    "                target_row, target_col = divmod(current_col[i] - 1, n)\n",
    "                \n",
    "                # Controlla conflitti nella colonna\n",
    "                for j in range(i + 1, n):\n",
    "                    if current_col[j] != 0 and current_col[j] in goal_col:\n",
    "                        target_row_j, target_col_j = divmod(current_col[j] - 1, n)\n",
    "                        if target_col == col and target_row > target_row_j:\n",
    "                            linear_conflict += 2  # Aggiungi costo per il conflitto\n",
    "    \n",
    "    #h = (manhattan_distance + linear_conflict) ** exp\n",
    "    h = manhattan_distance ** exp\n",
    "    return h'''\n",
    "\n",
    "# Find the position of the 0 (empty tile).\n",
    "def find_zero(state):\n",
    "    return tuple(np.argwhere(state == 0)[0])\n",
    "\n",
    "# Generate the valid successor states.\n",
    "def get_neighbors(state, PUZZLE_DIM):\n",
    "    neighbors = []\n",
    "    x, y = find_zero(state)\n",
    "    moves = {'up': (x - 1, y), 'down': (x + 1, y), 'left': (x, y - 1), 'right': (x, y + 1)}\n",
    "    \n",
    "    for move, (new_x, new_y) in moves.items():\n",
    "        if 0 <= new_x < PUZZLE_DIM and 0 <= new_y < PUZZLE_DIM:  # Valid move\n",
    "            new_state = state.copy()\n",
    "            new_state[x, y], new_state[new_x, new_y] = new_state[new_x, new_y], new_state[x, y]  # Swap\n",
    "            neighbors.append((new_state, move))\n",
    "    return neighbors\n",
    "\n",
    "# Reconstructs the path from the initial node to the goal node.\n",
    "def reconstruct_path(came_from, current):\n",
    "    path = []\n",
    "    while current in came_from:\n",
    "        current, move = came_from[current]\n",
    "        path.append(move)\n",
    "    return path[::-1]  # Reverse the path.\n",
    "\n",
    "# A* algorithm\n",
    "def a_star(initial_state, goal_state, PUZZLE_DIM):\n",
    "    open_set = []\n",
    "    heapq.heappush(open_set, (0, initial_state.tobytes()))  # (f_score, serialized state)\n",
    "    \n",
    "    came_from = {}\n",
    "    g_score = {initial_state.tobytes(): 0}\n",
    "    f_score = {initial_state.tobytes(): heuristic(initial_state, goal_state, PUZZLE_DIM)}\n",
    "    step = 0  # Initialization of the step variable.\n",
    "\n",
    "\n",
    "    while open_set and step < MAX_STEP: # Limit the number of steps.\n",
    "    #while open_set: # Continue until a solution is found.\n",
    "        _, current_bytes = heapq.heappop(open_set)\n",
    "        current = np.frombuffer(current_bytes, dtype=int).reshape((PUZZLE_DIM, PUZZLE_DIM))\n",
    "\n",
    "        # Check if it is the goal node.\n",
    "        if np.array_equal(current, goal_state):\n",
    "            return True, current, reconstruct_path(came_from, current_bytes), g_score[current_bytes]\n",
    "        \n",
    "        # Explore the neighbors.\n",
    "        for neighbor, move in get_neighbors(current, PUZZLE_DIM):\n",
    "            neighbor_bytes = neighbor.tobytes()\n",
    "            tentative_g_score = g_score[current_bytes] + 1  # Cost of the move.\n",
    "            \n",
    "            if neighbor_bytes not in g_score or tentative_g_score < g_score[neighbor_bytes]:\n",
    "                came_from[neighbor_bytes] = (current_bytes, move)\n",
    "                g_score[neighbor_bytes] = tentative_g_score\n",
    "                f_score[neighbor_bytes] = tentative_g_score + heuristic(neighbor, goal_state, PUZZLE_DIM)\n",
    "                heapq.heappush(open_set, (f_score[neighbor_bytes], neighbor_bytes))\n",
    "        step += 1  # Increment the step counter.\n",
    "        \n",
    "    #return current, None, None  # No solution found.\n",
    "    return False, current, reconstruct_path(came_from, current_bytes), g_score[current_bytes]\n"
   ]
  },
  {
   "cell_type": "code",
   "execution_count": 7,
   "metadata": {},
   "outputs": [
    {
     "data": {
      "text/plain": [
       "array([[ 1,  2,  3,  4],\n",
       "       [ 5,  6,  7,  8],\n",
       "       [ 9, 10, 11, 12],\n",
       "       [13, 14, 15,  0]])"
      ]
     },
     "execution_count": 7,
     "metadata": {},
     "output_type": "execute_result"
    }
   ],
   "source": [
    "goal_state = np.array([i for i in range(1, PUZZLE_DIM**2)] + [0]).reshape((PUZZLE_DIM, PUZZLE_DIM))\n",
    "goal_state"
   ]
  },
  {
   "cell_type": "code",
   "execution_count": 8,
   "metadata": {},
   "outputs": [
    {
     "name": "stdout",
     "output_type": "stream",
     "text": [
      "Solution not found. Best result in 77 moves:\n",
      "down -> down -> left -> left -> up -> right -> right -> down -> left -> left -> up -> left -> down -> right -> up -> right -> up -> left -> down -> right -> right -> up -> left -> up -> right -> down -> left -> left -> left -> down -> right -> up -> up -> left -> down -> down -> right -> up -> right -> down -> left -> down -> right -> up -> right -> down -> left -> left -> up -> up -> right -> right -> down -> down -> left -> left -> up -> left -> down -> right -> right -> up -> up -> left -> down -> down -> left -> up -> up -> right -> down -> right -> up -> right -> down -> down -> left\n",
      "[[ 1  8  9 14]\n",
      " [ 6  7 15 13]\n",
      " [ 4  2 11 10]\n",
      " [ 3  5  0 12]]\n"
     ]
    }
   ],
   "source": [
    "found, final_state, solution, cost = a_star(initial_state, goal_state, PUZZLE_DIM)\n",
    "if found:\n",
    "    print(f\"Solution found in {cost} moves:\")\n",
    "    #print(\" -> \".join(solution))\n",
    "else:\n",
    "    print(f\"Solution not found. Best result in {cost} moves:\")\n",
    "print(\" -> \".join(solution))\n",
    "print(final_state)"
   ]
  }
 ],
 "metadata": {
  "kernelspec": {
   "display_name": "base",
   "language": "python",
   "name": "python3"
  },
  "language_info": {
   "codemirror_mode": {
    "name": "ipython",
    "version": 3
   },
   "file_extension": ".py",
   "mimetype": "text/x-python",
   "name": "python",
   "nbconvert_exporter": "python",
   "pygments_lexer": "ipython3",
   "version": "3.9.7"
  }
 },
 "nbformat": 4,
 "nbformat_minor": 2
}
